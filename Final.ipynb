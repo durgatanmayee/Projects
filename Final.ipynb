{
  "nbformat": 4,
  "nbformat_minor": 0,
  "metadata": {
    "colab": {
      "provenance": [],
      "include_colab_link": true
    },
    "kernelspec": {
      "name": "python3",
      "display_name": "Python 3"
    },
    "language_info": {
      "name": "python"
    }
  },
  "cells": [
    {
      "cell_type": "markdown",
      "metadata": {
        "id": "view-in-github",
        "colab_type": "text"
      },
      "source": [
        "<a href=\"https://colab.research.google.com/github/durgatanmayee/Projects/blob/main/Final.ipynb\" target=\"_parent\"><img src=\"https://colab.research.google.com/assets/colab-badge.svg\" alt=\"Open In Colab\"/></a>"
      ]
    },
    {
      "cell_type": "code",
      "execution_count": null,
      "metadata": {
        "id": "XaNo1Nsmo2zq"
      },
      "outputs": [],
      "source": [
        "import pandas as pd\n",
        "import numpy as np\n",
        "from sklearn.svm import SVC\n",
        "from sklearn.preprocessing import LabelEncoder, StandardScaler\n",
        "from sklearn.feature_selection import SelectKBest, f_classif\n",
        "from sklearn.model_selection import train_test_split, GridSearchCV\n",
        "from sklearn.linear_model import LogisticRegression\n",
        "from sklearn.tree import DecisionTreeClassifier\n",
        "from sklearn.ensemble import RandomForestClassifier\n",
        "from sklearn.neighbors import KNeighborsClassifier\n",
        "from sklearn.metrics import accuracy_score, precision_score, recall_score, f1_score"
      ]
    },
    {
      "cell_type": "code",
      "source": [
        "from google.colab import drive\n",
        "drive.mount('/content/drive')"
      ],
      "metadata": {
        "colab": {
          "base_uri": "https://localhost:8080/"
        },
        "id": "NdBPgNT4o5Rd",
        "outputId": "4197bb02-80f9-4b95-beae-8bc305f59edb"
      },
      "execution_count": null,
      "outputs": [
        {
          "output_type": "stream",
          "name": "stdout",
          "text": [
            "Mounted at /content/drive\n"
          ]
        }
      ]
    },
    {
      "cell_type": "code",
      "source": [
        "data = pd.read_csv('/content/drive/MyDrive/MLProjectWISE/popular_matches.csv')"
      ],
      "metadata": {
        "id": "eJ6elldGpD7S"
      },
      "execution_count": null,
      "outputs": []
    },
    {
      "cell_type": "code",
      "source": [
        "data"
      ],
      "metadata": {
        "colab": {
          "base_uri": "https://localhost:8080/",
          "height": 834
        },
        "id": "Livg5H7NpQVC",
        "outputId": "a019da3d-0985-4fb6-fb0e-d7af6b1a6f10"
      },
      "execution_count": null,
      "outputs": [
        {
          "output_type": "execute_result",
          "data": {
            "text/plain": [
              "                  date    place             opponent_1             opponent_2  \\\n",
              "0       31 August 2019  Unknown      Vasyl Lomachenko           Luke Campbell   \n",
              "1    19 September 2019  Unknown  Orlando Fiordigiglio           Sam Eggington   \n",
              "2       5 October 2019  Unknown      Gennady Golovkin   Sergiy Derevyanchenko   \n",
              "3      12 October 2019  Unknown     Chazz Witherspoon          Oleksandr Usyk   \n",
              "4    27 September 2019  Unknown       Ebenezer Tetteh           Daniel Dubois   \n",
              "..                 ...      ...                    ...                    ...   \n",
              "147       7 March 2020  Unknown     Theophilus Tetteh          Anthony Fowler   \n",
              "148   22 February 2020  Unknown        Deontay Wilder              Tyson Fury   \n",
              "149       7 March 2020  Unknown           Scott Quigg            Jono Carroll   \n",
              "150     29 August 2020  Unknown            Joe Hughes             Sam Maxwell   \n",
              "151    17 October 2020  Unknown      Vasyl Lomachenko           Teofimo Lopez   \n",
              "\n",
              "     opponent_1_estimated_punch_power  opponent_2_estimated_punch_power  \\\n",
              "0                                  72                                72   \n",
              "1                                  59                                59   \n",
              "2                                  82                                82   \n",
              "3                                  69                                69   \n",
              "4                                  46                                46   \n",
              "..                                ...                               ...   \n",
              "147                                56                                56   \n",
              "148                                88                                88   \n",
              "149                                75                                75   \n",
              "150                                57                                57   \n",
              "151                                71                                71   \n",
              "\n",
              "     opponent_1_estimated_punch_resistance  \\\n",
              "0                                     73.9   \n",
              "1                                     55.4   \n",
              "2                                     68.0   \n",
              "3                                     59.6   \n",
              "4                                      NaN   \n",
              "..                                     ...   \n",
              "147                                   41.7   \n",
              "148                                   63.9   \n",
              "149                                   63.4   \n",
              "150                                   52.3   \n",
              "151                                   73.9   \n",
              "\n",
              "     opponent_2_estimated_punch_resistance  \\\n",
              "0                                     60.5   \n",
              "1                                     54.5   \n",
              "2                                     63.3   \n",
              "3                                     68.9   \n",
              "4                                     44.4   \n",
              "..                                     ...   \n",
              "147                                   45.7   \n",
              "148                                   66.9   \n",
              "149                                   52.2   \n",
              "150                                    NaN   \n",
              "151                                   58.1   \n",
              "\n",
              "     opponent_1_estimated_ability_to_take_punch  \\\n",
              "0                                          78.0   \n",
              "1                                          68.0   \n",
              "2                                          84.0   \n",
              "3                                          79.0   \n",
              "4                                          50.0   \n",
              "..                                          ...   \n",
              "147                                        67.0   \n",
              "148                                        83.0   \n",
              "149                                        76.0   \n",
              "150                                        65.0   \n",
              "151                                        78.0   \n",
              "\n",
              "     opponent_2_estimated_ability_to_take_punch  opponent_1_rounds_boxed  \\\n",
              "0                                          73.0                      119   \n",
              "1                                          66.0                      200   \n",
              "2                                          75.0                      200   \n",
              "3                                          80.0                      182   \n",
              "4                                          69.0                       38   \n",
              "..                                          ...                      ...   \n",
              "147                                        60.0                      147   \n",
              "148                                        86.0                      143   \n",
              "149                                        63.0                      200   \n",
              "150                                         NaN                      182   \n",
              "151                                        76.0                      131   \n",
              "\n",
              "     opponent_2_rounds_boxed  opponent_1_round_ko_percentage  \\\n",
              "0                      130.0                            8.40   \n",
              "1                      177.0                            6.50   \n",
              "2                       81.0                           17.50   \n",
              "3                      125.0                           15.93   \n",
              "4                       39.0                           23.68   \n",
              "..                       ...                             ...   \n",
              "147                     65.0                            6.12   \n",
              "148                    186.0                           28.67   \n",
              "149                    122.0                           13.00   \n",
              "150                      NaN                            3.85   \n",
              "151                     58.0                            7.63   \n",
              "\n",
              "     opponent_2_round_ko_percentage  opponent_1_has_been_ko_percentage  \\\n",
              "0                             12.31                               0.00   \n",
              "1                              8.47                               3.03   \n",
              "2                             12.35                               0.00   \n",
              "3                              9.60                               4.76   \n",
              "4                             30.77                               0.00   \n",
              "..                              ...                                ...   \n",
              "147                           13.85                               8.00   \n",
              "148                           10.75                               0.00   \n",
              "149                             NaN                               0.00   \n",
              "150                             NaN                               0.00   \n",
              "151                           18.97                               0.00   \n",
              "\n",
              "     opponent_2_has_been_ko_percentage  opponent_1_avg_weight  \\\n",
              "0                                 0.00                 127.11   \n",
              "1                                 6.25                 152.50   \n",
              "2                                 0.00                 159.66   \n",
              "3                                  NaN                 292.71   \n",
              "4                                 0.00                 178.67   \n",
              "..                                 ...                    ...   \n",
              "147                                NaN                 154.88   \n",
              "148                               0.00                 242.40   \n",
              "149                               0.00                 124.80   \n",
              "150                               0.00                 141.86   \n",
              "151                               0.00                 127.11   \n",
              "\n",
              "     opponent_2_avg_weight                            verdict  \n",
              "0                   135.24  Lomachenko won via UD in round 12  \n",
              "1                   148.93    Eggington won via KO in round 2  \n",
              "2                   164.04    Golovkin won via UD in round 12  \n",
              "3                   200.10        Usyk won via RTD in round 7  \n",
              "4                   230.38      Dubois won via TKO in round 1  \n",
              "..                     ...                                ...  \n",
              "147                 155.90      Fowler won via TKO in round 1  \n",
              "148                 247.50        Fury won via TKO in round 7  \n",
              "149                 133.43    Carroll won via TKO in round 11  \n",
              "150                    NaN     Maxwell won via UD in round 10  \n",
              "151                 139.60       Lopez won via UD in round 12  \n",
              "\n",
              "[152 rows x 19 columns]"
            ],
            "text/html": [
              "\n",
              "  <div id=\"df-08b101ca-7b86-41e6-82bc-0ff08cef5400\">\n",
              "    <div class=\"colab-df-container\">\n",
              "      <div>\n",
              "<style scoped>\n",
              "    .dataframe tbody tr th:only-of-type {\n",
              "        vertical-align: middle;\n",
              "    }\n",
              "\n",
              "    .dataframe tbody tr th {\n",
              "        vertical-align: top;\n",
              "    }\n",
              "\n",
              "    .dataframe thead th {\n",
              "        text-align: right;\n",
              "    }\n",
              "</style>\n",
              "<table border=\"1\" class=\"dataframe\">\n",
              "  <thead>\n",
              "    <tr style=\"text-align: right;\">\n",
              "      <th></th>\n",
              "      <th>date</th>\n",
              "      <th>place</th>\n",
              "      <th>opponent_1</th>\n",
              "      <th>opponent_2</th>\n",
              "      <th>opponent_1_estimated_punch_power</th>\n",
              "      <th>opponent_2_estimated_punch_power</th>\n",
              "      <th>opponent_1_estimated_punch_resistance</th>\n",
              "      <th>opponent_2_estimated_punch_resistance</th>\n",
              "      <th>opponent_1_estimated_ability_to_take_punch</th>\n",
              "      <th>opponent_2_estimated_ability_to_take_punch</th>\n",
              "      <th>opponent_1_rounds_boxed</th>\n",
              "      <th>opponent_2_rounds_boxed</th>\n",
              "      <th>opponent_1_round_ko_percentage</th>\n",
              "      <th>opponent_2_round_ko_percentage</th>\n",
              "      <th>opponent_1_has_been_ko_percentage</th>\n",
              "      <th>opponent_2_has_been_ko_percentage</th>\n",
              "      <th>opponent_1_avg_weight</th>\n",
              "      <th>opponent_2_avg_weight</th>\n",
              "      <th>verdict</th>\n",
              "    </tr>\n",
              "  </thead>\n",
              "  <tbody>\n",
              "    <tr>\n",
              "      <th>0</th>\n",
              "      <td>31 August 2019</td>\n",
              "      <td>Unknown</td>\n",
              "      <td>Vasyl Lomachenko</td>\n",
              "      <td>Luke Campbell</td>\n",
              "      <td>72</td>\n",
              "      <td>72</td>\n",
              "      <td>73.9</td>\n",
              "      <td>60.5</td>\n",
              "      <td>78.0</td>\n",
              "      <td>73.0</td>\n",
              "      <td>119</td>\n",
              "      <td>130.0</td>\n",
              "      <td>8.40</td>\n",
              "      <td>12.31</td>\n",
              "      <td>0.00</td>\n",
              "      <td>0.00</td>\n",
              "      <td>127.11</td>\n",
              "      <td>135.24</td>\n",
              "      <td>Lomachenko won via UD in round 12</td>\n",
              "    </tr>\n",
              "    <tr>\n",
              "      <th>1</th>\n",
              "      <td>19 September 2019</td>\n",
              "      <td>Unknown</td>\n",
              "      <td>Orlando Fiordigiglio</td>\n",
              "      <td>Sam Eggington</td>\n",
              "      <td>59</td>\n",
              "      <td>59</td>\n",
              "      <td>55.4</td>\n",
              "      <td>54.5</td>\n",
              "      <td>68.0</td>\n",
              "      <td>66.0</td>\n",
              "      <td>200</td>\n",
              "      <td>177.0</td>\n",
              "      <td>6.50</td>\n",
              "      <td>8.47</td>\n",
              "      <td>3.03</td>\n",
              "      <td>6.25</td>\n",
              "      <td>152.50</td>\n",
              "      <td>148.93</td>\n",
              "      <td>Eggington won via KO in round 2</td>\n",
              "    </tr>\n",
              "    <tr>\n",
              "      <th>2</th>\n",
              "      <td>5 October 2019</td>\n",
              "      <td>Unknown</td>\n",
              "      <td>Gennady Golovkin</td>\n",
              "      <td>Sergiy Derevyanchenko</td>\n",
              "      <td>82</td>\n",
              "      <td>82</td>\n",
              "      <td>68.0</td>\n",
              "      <td>63.3</td>\n",
              "      <td>84.0</td>\n",
              "      <td>75.0</td>\n",
              "      <td>200</td>\n",
              "      <td>81.0</td>\n",
              "      <td>17.50</td>\n",
              "      <td>12.35</td>\n",
              "      <td>0.00</td>\n",
              "      <td>0.00</td>\n",
              "      <td>159.66</td>\n",
              "      <td>164.04</td>\n",
              "      <td>Golovkin won via UD in round 12</td>\n",
              "    </tr>\n",
              "    <tr>\n",
              "      <th>3</th>\n",
              "      <td>12 October 2019</td>\n",
              "      <td>Unknown</td>\n",
              "      <td>Chazz Witherspoon</td>\n",
              "      <td>Oleksandr Usyk</td>\n",
              "      <td>69</td>\n",
              "      <td>69</td>\n",
              "      <td>59.6</td>\n",
              "      <td>68.9</td>\n",
              "      <td>79.0</td>\n",
              "      <td>80.0</td>\n",
              "      <td>182</td>\n",
              "      <td>125.0</td>\n",
              "      <td>15.93</td>\n",
              "      <td>9.60</td>\n",
              "      <td>4.76</td>\n",
              "      <td>NaN</td>\n",
              "      <td>292.71</td>\n",
              "      <td>200.10</td>\n",
              "      <td>Usyk won via RTD in round 7</td>\n",
              "    </tr>\n",
              "    <tr>\n",
              "      <th>4</th>\n",
              "      <td>27 September 2019</td>\n",
              "      <td>Unknown</td>\n",
              "      <td>Ebenezer Tetteh</td>\n",
              "      <td>Daniel Dubois</td>\n",
              "      <td>46</td>\n",
              "      <td>46</td>\n",
              "      <td>NaN</td>\n",
              "      <td>44.4</td>\n",
              "      <td>50.0</td>\n",
              "      <td>69.0</td>\n",
              "      <td>38</td>\n",
              "      <td>39.0</td>\n",
              "      <td>23.68</td>\n",
              "      <td>30.77</td>\n",
              "      <td>0.00</td>\n",
              "      <td>0.00</td>\n",
              "      <td>178.67</td>\n",
              "      <td>230.38</td>\n",
              "      <td>Dubois won via TKO in round 1</td>\n",
              "    </tr>\n",
              "    <tr>\n",
              "      <th>...</th>\n",
              "      <td>...</td>\n",
              "      <td>...</td>\n",
              "      <td>...</td>\n",
              "      <td>...</td>\n",
              "      <td>...</td>\n",
              "      <td>...</td>\n",
              "      <td>...</td>\n",
              "      <td>...</td>\n",
              "      <td>...</td>\n",
              "      <td>...</td>\n",
              "      <td>...</td>\n",
              "      <td>...</td>\n",
              "      <td>...</td>\n",
              "      <td>...</td>\n",
              "      <td>...</td>\n",
              "      <td>...</td>\n",
              "      <td>...</td>\n",
              "      <td>...</td>\n",
              "      <td>...</td>\n",
              "    </tr>\n",
              "    <tr>\n",
              "      <th>147</th>\n",
              "      <td>7 March 2020</td>\n",
              "      <td>Unknown</td>\n",
              "      <td>Theophilus Tetteh</td>\n",
              "      <td>Anthony Fowler</td>\n",
              "      <td>56</td>\n",
              "      <td>56</td>\n",
              "      <td>41.7</td>\n",
              "      <td>45.7</td>\n",
              "      <td>67.0</td>\n",
              "      <td>60.0</td>\n",
              "      <td>147</td>\n",
              "      <td>65.0</td>\n",
              "      <td>6.12</td>\n",
              "      <td>13.85</td>\n",
              "      <td>8.00</td>\n",
              "      <td>NaN</td>\n",
              "      <td>154.88</td>\n",
              "      <td>155.90</td>\n",
              "      <td>Fowler won via TKO in round 1</td>\n",
              "    </tr>\n",
              "    <tr>\n",
              "      <th>148</th>\n",
              "      <td>22 February 2020</td>\n",
              "      <td>Unknown</td>\n",
              "      <td>Deontay Wilder</td>\n",
              "      <td>Tyson Fury</td>\n",
              "      <td>88</td>\n",
              "      <td>88</td>\n",
              "      <td>63.9</td>\n",
              "      <td>66.9</td>\n",
              "      <td>83.0</td>\n",
              "      <td>86.0</td>\n",
              "      <td>143</td>\n",
              "      <td>186.0</td>\n",
              "      <td>28.67</td>\n",
              "      <td>10.75</td>\n",
              "      <td>0.00</td>\n",
              "      <td>0.00</td>\n",
              "      <td>242.40</td>\n",
              "      <td>247.50</td>\n",
              "      <td>Fury won via TKO in round 7</td>\n",
              "    </tr>\n",
              "    <tr>\n",
              "      <th>149</th>\n",
              "      <td>7 March 2020</td>\n",
              "      <td>Unknown</td>\n",
              "      <td>Scott Quigg</td>\n",
              "      <td>Jono Carroll</td>\n",
              "      <td>75</td>\n",
              "      <td>75</td>\n",
              "      <td>63.4</td>\n",
              "      <td>52.2</td>\n",
              "      <td>76.0</td>\n",
              "      <td>63.0</td>\n",
              "      <td>200</td>\n",
              "      <td>122.0</td>\n",
              "      <td>13.00</td>\n",
              "      <td>NaN</td>\n",
              "      <td>0.00</td>\n",
              "      <td>0.00</td>\n",
              "      <td>124.80</td>\n",
              "      <td>133.43</td>\n",
              "      <td>Carroll won via TKO in round 11</td>\n",
              "    </tr>\n",
              "    <tr>\n",
              "      <th>150</th>\n",
              "      <td>29 August 2020</td>\n",
              "      <td>Unknown</td>\n",
              "      <td>Joe Hughes</td>\n",
              "      <td>Sam Maxwell</td>\n",
              "      <td>57</td>\n",
              "      <td>57</td>\n",
              "      <td>52.3</td>\n",
              "      <td>NaN</td>\n",
              "      <td>65.0</td>\n",
              "      <td>NaN</td>\n",
              "      <td>182</td>\n",
              "      <td>NaN</td>\n",
              "      <td>3.85</td>\n",
              "      <td>NaN</td>\n",
              "      <td>0.00</td>\n",
              "      <td>0.00</td>\n",
              "      <td>141.86</td>\n",
              "      <td>NaN</td>\n",
              "      <td>Maxwell won via UD in round 10</td>\n",
              "    </tr>\n",
              "    <tr>\n",
              "      <th>151</th>\n",
              "      <td>17 October 2020</td>\n",
              "      <td>Unknown</td>\n",
              "      <td>Vasyl Lomachenko</td>\n",
              "      <td>Teofimo Lopez</td>\n",
              "      <td>71</td>\n",
              "      <td>71</td>\n",
              "      <td>73.9</td>\n",
              "      <td>58.1</td>\n",
              "      <td>78.0</td>\n",
              "      <td>76.0</td>\n",
              "      <td>131</td>\n",
              "      <td>58.0</td>\n",
              "      <td>7.63</td>\n",
              "      <td>18.97</td>\n",
              "      <td>0.00</td>\n",
              "      <td>0.00</td>\n",
              "      <td>127.11</td>\n",
              "      <td>139.60</td>\n",
              "      <td>Lopez won via UD in round 12</td>\n",
              "    </tr>\n",
              "  </tbody>\n",
              "</table>\n",
              "<p>152 rows × 19 columns</p>\n",
              "</div>\n",
              "      <button class=\"colab-df-convert\" onclick=\"convertToInteractive('df-08b101ca-7b86-41e6-82bc-0ff08cef5400')\"\n",
              "              title=\"Convert this dataframe to an interactive table.\"\n",
              "              style=\"display:none;\">\n",
              "        \n",
              "  <svg xmlns=\"http://www.w3.org/2000/svg\" height=\"24px\"viewBox=\"0 0 24 24\"\n",
              "       width=\"24px\">\n",
              "    <path d=\"M0 0h24v24H0V0z\" fill=\"none\"/>\n",
              "    <path d=\"M18.56 5.44l.94 2.06.94-2.06 2.06-.94-2.06-.94-.94-2.06-.94 2.06-2.06.94zm-11 1L8.5 8.5l.94-2.06 2.06-.94-2.06-.94L8.5 2.5l-.94 2.06-2.06.94zm10 10l.94 2.06.94-2.06 2.06-.94-2.06-.94-.94-2.06-.94 2.06-2.06.94z\"/><path d=\"M17.41 7.96l-1.37-1.37c-.4-.4-.92-.59-1.43-.59-.52 0-1.04.2-1.43.59L10.3 9.45l-7.72 7.72c-.78.78-.78 2.05 0 2.83L4 21.41c.39.39.9.59 1.41.59.51 0 1.02-.2 1.41-.59l7.78-7.78 2.81-2.81c.8-.78.8-2.07 0-2.86zM5.41 20L4 18.59l7.72-7.72 1.47 1.35L5.41 20z\"/>\n",
              "  </svg>\n",
              "      </button>\n",
              "      \n",
              "  <style>\n",
              "    .colab-df-container {\n",
              "      display:flex;\n",
              "      flex-wrap:wrap;\n",
              "      gap: 12px;\n",
              "    }\n",
              "\n",
              "    .colab-df-convert {\n",
              "      background-color: #E8F0FE;\n",
              "      border: none;\n",
              "      border-radius: 50%;\n",
              "      cursor: pointer;\n",
              "      display: none;\n",
              "      fill: #1967D2;\n",
              "      height: 32px;\n",
              "      padding: 0 0 0 0;\n",
              "      width: 32px;\n",
              "    }\n",
              "\n",
              "    .colab-df-convert:hover {\n",
              "      background-color: #E2EBFA;\n",
              "      box-shadow: 0px 1px 2px rgba(60, 64, 67, 0.3), 0px 1px 3px 1px rgba(60, 64, 67, 0.15);\n",
              "      fill: #174EA6;\n",
              "    }\n",
              "\n",
              "    [theme=dark] .colab-df-convert {\n",
              "      background-color: #3B4455;\n",
              "      fill: #D2E3FC;\n",
              "    }\n",
              "\n",
              "    [theme=dark] .colab-df-convert:hover {\n",
              "      background-color: #434B5C;\n",
              "      box-shadow: 0px 1px 3px 1px rgba(0, 0, 0, 0.15);\n",
              "      filter: drop-shadow(0px 1px 2px rgba(0, 0, 0, 0.3));\n",
              "      fill: #FFFFFF;\n",
              "    }\n",
              "  </style>\n",
              "\n",
              "      <script>\n",
              "        const buttonEl =\n",
              "          document.querySelector('#df-08b101ca-7b86-41e6-82bc-0ff08cef5400 button.colab-df-convert');\n",
              "        buttonEl.style.display =\n",
              "          google.colab.kernel.accessAllowed ? 'block' : 'none';\n",
              "\n",
              "        async function convertToInteractive(key) {\n",
              "          const element = document.querySelector('#df-08b101ca-7b86-41e6-82bc-0ff08cef5400');\n",
              "          const dataTable =\n",
              "            await google.colab.kernel.invokeFunction('convertToInteractive',\n",
              "                                                     [key], {});\n",
              "          if (!dataTable) return;\n",
              "\n",
              "          const docLinkHtml = 'Like what you see? Visit the ' +\n",
              "            '<a target=\"_blank\" href=https://colab.research.google.com/notebooks/data_table.ipynb>data table notebook</a>'\n",
              "            + ' to learn more about interactive tables.';\n",
              "          element.innerHTML = '';\n",
              "          dataTable['output_type'] = 'display_data';\n",
              "          await google.colab.output.renderOutput(dataTable, element);\n",
              "          const docLink = document.createElement('div');\n",
              "          docLink.innerHTML = docLinkHtml;\n",
              "          element.appendChild(docLink);\n",
              "        }\n",
              "      </script>\n",
              "    </div>\n",
              "  </div>\n",
              "  "
            ]
          },
          "metadata": {},
          "execution_count": 43
        }
      ]
    },
    {
      "cell_type": "code",
      "source": [
        "data['winner'] = data['verdict'].apply(lambda x: x.split(' ')[0])"
      ],
      "metadata": {
        "id": "ruTNESUurZOy"
      },
      "execution_count": null,
      "outputs": []
    },
    {
      "cell_type": "code",
      "source": [
        "data['winner']"
      ],
      "metadata": {
        "colab": {
          "base_uri": "https://localhost:8080/"
        },
        "id": "yjgRjpuau-A0",
        "outputId": "04c5ee2c-563c-4a62-a7a7-9e09fa3fd903"
      },
      "execution_count": null,
      "outputs": [
        {
          "output_type": "execute_result",
          "data": {
            "text/plain": [
              "0      Lomachenko\n",
              "1       Eggington\n",
              "2        Golovkin\n",
              "3            Usyk\n",
              "4          Dubois\n",
              "          ...    \n",
              "147        Fowler\n",
              "148          Fury\n",
              "149       Carroll\n",
              "150       Maxwell\n",
              "151         Lopez\n",
              "Name: winner, Length: 152, dtype: object"
            ]
          },
          "metadata": {},
          "execution_count": 6
        }
      ]
    },
    {
      "cell_type": "code",
      "source": [],
      "metadata": {
        "id": "NRJvWAao39Z0"
      },
      "execution_count": null,
      "outputs": []
    },
    {
      "cell_type": "code",
      "source": [
        "data.drop('verdict', axis=1, inplace=True)"
      ],
      "metadata": {
        "id": "xcDXF_z5vCPJ"
      },
      "execution_count": null,
      "outputs": []
    },
    {
      "cell_type": "code",
      "source": [
        "data.drop('date',axis = 1,inplace = True)\n",
        "data.drop('place',axis = 1,inplace = True)"
      ],
      "metadata": {
        "id": "f4zhBC4QwAt_"
      },
      "execution_count": null,
      "outputs": []
    },
    {
      "cell_type": "code",
      "source": [
        "data.isnull().sum()"
      ],
      "metadata": {
        "colab": {
          "base_uri": "https://localhost:8080/"
        },
        "id": "WLE2q-DdwLCB",
        "outputId": "6987fc82-03d0-43e6-8a95-778211a631ab"
      },
      "execution_count": null,
      "outputs": [
        {
          "output_type": "execute_result",
          "data": {
            "text/plain": [
              "opponent_1                                     0\n",
              "opponent_2                                     0\n",
              "opponent_1_estimated_punch_power               0\n",
              "opponent_2_estimated_punch_power               0\n",
              "opponent_1_estimated_punch_resistance          2\n",
              "opponent_2_estimated_punch_resistance          8\n",
              "opponent_1_estimated_ability_to_take_punch     1\n",
              "opponent_2_estimated_ability_to_take_punch     7\n",
              "opponent_1_rounds_boxed                        0\n",
              "opponent_2_rounds_boxed                       27\n",
              "opponent_1_round_ko_percentage                24\n",
              "opponent_2_round_ko_percentage                18\n",
              "opponent_1_has_been_ko_percentage             17\n",
              "opponent_2_has_been_ko_percentage             55\n",
              "opponent_1_avg_weight                          1\n",
              "opponent_2_avg_weight                         12\n",
              "winner                                         0\n",
              "dtype: int64"
            ]
          },
          "metadata": {},
          "execution_count": 9
        }
      ]
    },
    {
      "cell_type": "code",
      "source": [
        "data"
      ],
      "metadata": {
        "colab": {
          "base_uri": "https://localhost:8080/",
          "height": 626
        },
        "id": "qnfFxdYSwPq2",
        "outputId": "dedaa9e0-c14e-419f-c726-11402fe614a7"
      },
      "execution_count": null,
      "outputs": [
        {
          "output_type": "execute_result",
          "data": {
            "text/plain": [
              "                opponent_1             opponent_2  \\\n",
              "0        Vasyl Lomachenko           Luke Campbell   \n",
              "1    Orlando Fiordigiglio           Sam Eggington   \n",
              "2        Gennady Golovkin   Sergiy Derevyanchenko   \n",
              "3       Chazz Witherspoon          Oleksandr Usyk   \n",
              "4         Ebenezer Tetteh           Daniel Dubois   \n",
              "..                     ...                    ...   \n",
              "147     Theophilus Tetteh          Anthony Fowler   \n",
              "148        Deontay Wilder              Tyson Fury   \n",
              "149           Scott Quigg            Jono Carroll   \n",
              "150            Joe Hughes             Sam Maxwell   \n",
              "151      Vasyl Lomachenko           Teofimo Lopez   \n",
              "\n",
              "     opponent_1_estimated_punch_power  opponent_2_estimated_punch_power  \\\n",
              "0                                  72                                72   \n",
              "1                                  59                                59   \n",
              "2                                  82                                82   \n",
              "3                                  69                                69   \n",
              "4                                  46                                46   \n",
              "..                                ...                               ...   \n",
              "147                                56                                56   \n",
              "148                                88                                88   \n",
              "149                                75                                75   \n",
              "150                                57                                57   \n",
              "151                                71                                71   \n",
              "\n",
              "     opponent_1_estimated_punch_resistance  \\\n",
              "0                                     73.9   \n",
              "1                                     55.4   \n",
              "2                                     68.0   \n",
              "3                                     59.6   \n",
              "4                                      NaN   \n",
              "..                                     ...   \n",
              "147                                   41.7   \n",
              "148                                   63.9   \n",
              "149                                   63.4   \n",
              "150                                   52.3   \n",
              "151                                   73.9   \n",
              "\n",
              "     opponent_2_estimated_punch_resistance  \\\n",
              "0                                     60.5   \n",
              "1                                     54.5   \n",
              "2                                     63.3   \n",
              "3                                     68.9   \n",
              "4                                     44.4   \n",
              "..                                     ...   \n",
              "147                                   45.7   \n",
              "148                                   66.9   \n",
              "149                                   52.2   \n",
              "150                                    NaN   \n",
              "151                                   58.1   \n",
              "\n",
              "     opponent_1_estimated_ability_to_take_punch  \\\n",
              "0                                          78.0   \n",
              "1                                          68.0   \n",
              "2                                          84.0   \n",
              "3                                          79.0   \n",
              "4                                          50.0   \n",
              "..                                          ...   \n",
              "147                                        67.0   \n",
              "148                                        83.0   \n",
              "149                                        76.0   \n",
              "150                                        65.0   \n",
              "151                                        78.0   \n",
              "\n",
              "     opponent_2_estimated_ability_to_take_punch  opponent_1_rounds_boxed  \\\n",
              "0                                          73.0                      119   \n",
              "1                                          66.0                      200   \n",
              "2                                          75.0                      200   \n",
              "3                                          80.0                      182   \n",
              "4                                          69.0                       38   \n",
              "..                                          ...                      ...   \n",
              "147                                        60.0                      147   \n",
              "148                                        86.0                      143   \n",
              "149                                        63.0                      200   \n",
              "150                                         NaN                      182   \n",
              "151                                        76.0                      131   \n",
              "\n",
              "     opponent_2_rounds_boxed  opponent_1_round_ko_percentage  \\\n",
              "0                      130.0                            8.40   \n",
              "1                      177.0                            6.50   \n",
              "2                       81.0                           17.50   \n",
              "3                      125.0                           15.93   \n",
              "4                       39.0                           23.68   \n",
              "..                       ...                             ...   \n",
              "147                     65.0                            6.12   \n",
              "148                    186.0                           28.67   \n",
              "149                    122.0                           13.00   \n",
              "150                      NaN                            3.85   \n",
              "151                     58.0                            7.63   \n",
              "\n",
              "     opponent_2_round_ko_percentage  opponent_1_has_been_ko_percentage  \\\n",
              "0                             12.31                               0.00   \n",
              "1                              8.47                               3.03   \n",
              "2                             12.35                               0.00   \n",
              "3                              9.60                               4.76   \n",
              "4                             30.77                               0.00   \n",
              "..                              ...                                ...   \n",
              "147                           13.85                               8.00   \n",
              "148                           10.75                               0.00   \n",
              "149                             NaN                               0.00   \n",
              "150                             NaN                               0.00   \n",
              "151                           18.97                               0.00   \n",
              "\n",
              "     opponent_2_has_been_ko_percentage  opponent_1_avg_weight  \\\n",
              "0                                 0.00                 127.11   \n",
              "1                                 6.25                 152.50   \n",
              "2                                 0.00                 159.66   \n",
              "3                                  NaN                 292.71   \n",
              "4                                 0.00                 178.67   \n",
              "..                                 ...                    ...   \n",
              "147                                NaN                 154.88   \n",
              "148                               0.00                 242.40   \n",
              "149                               0.00                 124.80   \n",
              "150                               0.00                 141.86   \n",
              "151                               0.00                 127.11   \n",
              "\n",
              "     opponent_2_avg_weight      winner  \n",
              "0                   135.24  Lomachenko  \n",
              "1                   148.93   Eggington  \n",
              "2                   164.04    Golovkin  \n",
              "3                   200.10        Usyk  \n",
              "4                   230.38      Dubois  \n",
              "..                     ...         ...  \n",
              "147                 155.90      Fowler  \n",
              "148                 247.50        Fury  \n",
              "149                 133.43     Carroll  \n",
              "150                    NaN     Maxwell  \n",
              "151                 139.60       Lopez  \n",
              "\n",
              "[152 rows x 17 columns]"
            ],
            "text/html": [
              "\n",
              "  <div id=\"df-398d35b9-2047-4860-abf4-eb57c6b1bd0c\">\n",
              "    <div class=\"colab-df-container\">\n",
              "      <div>\n",
              "<style scoped>\n",
              "    .dataframe tbody tr th:only-of-type {\n",
              "        vertical-align: middle;\n",
              "    }\n",
              "\n",
              "    .dataframe tbody tr th {\n",
              "        vertical-align: top;\n",
              "    }\n",
              "\n",
              "    .dataframe thead th {\n",
              "        text-align: right;\n",
              "    }\n",
              "</style>\n",
              "<table border=\"1\" class=\"dataframe\">\n",
              "  <thead>\n",
              "    <tr style=\"text-align: right;\">\n",
              "      <th></th>\n",
              "      <th>opponent_1</th>\n",
              "      <th>opponent_2</th>\n",
              "      <th>opponent_1_estimated_punch_power</th>\n",
              "      <th>opponent_2_estimated_punch_power</th>\n",
              "      <th>opponent_1_estimated_punch_resistance</th>\n",
              "      <th>opponent_2_estimated_punch_resistance</th>\n",
              "      <th>opponent_1_estimated_ability_to_take_punch</th>\n",
              "      <th>opponent_2_estimated_ability_to_take_punch</th>\n",
              "      <th>opponent_1_rounds_boxed</th>\n",
              "      <th>opponent_2_rounds_boxed</th>\n",
              "      <th>opponent_1_round_ko_percentage</th>\n",
              "      <th>opponent_2_round_ko_percentage</th>\n",
              "      <th>opponent_1_has_been_ko_percentage</th>\n",
              "      <th>opponent_2_has_been_ko_percentage</th>\n",
              "      <th>opponent_1_avg_weight</th>\n",
              "      <th>opponent_2_avg_weight</th>\n",
              "      <th>winner</th>\n",
              "    </tr>\n",
              "  </thead>\n",
              "  <tbody>\n",
              "    <tr>\n",
              "      <th>0</th>\n",
              "      <td>Vasyl Lomachenko</td>\n",
              "      <td>Luke Campbell</td>\n",
              "      <td>72</td>\n",
              "      <td>72</td>\n",
              "      <td>73.9</td>\n",
              "      <td>60.5</td>\n",
              "      <td>78.0</td>\n",
              "      <td>73.0</td>\n",
              "      <td>119</td>\n",
              "      <td>130.0</td>\n",
              "      <td>8.40</td>\n",
              "      <td>12.31</td>\n",
              "      <td>0.00</td>\n",
              "      <td>0.00</td>\n",
              "      <td>127.11</td>\n",
              "      <td>135.24</td>\n",
              "      <td>Lomachenko</td>\n",
              "    </tr>\n",
              "    <tr>\n",
              "      <th>1</th>\n",
              "      <td>Orlando Fiordigiglio</td>\n",
              "      <td>Sam Eggington</td>\n",
              "      <td>59</td>\n",
              "      <td>59</td>\n",
              "      <td>55.4</td>\n",
              "      <td>54.5</td>\n",
              "      <td>68.0</td>\n",
              "      <td>66.0</td>\n",
              "      <td>200</td>\n",
              "      <td>177.0</td>\n",
              "      <td>6.50</td>\n",
              "      <td>8.47</td>\n",
              "      <td>3.03</td>\n",
              "      <td>6.25</td>\n",
              "      <td>152.50</td>\n",
              "      <td>148.93</td>\n",
              "      <td>Eggington</td>\n",
              "    </tr>\n",
              "    <tr>\n",
              "      <th>2</th>\n",
              "      <td>Gennady Golovkin</td>\n",
              "      <td>Sergiy Derevyanchenko</td>\n",
              "      <td>82</td>\n",
              "      <td>82</td>\n",
              "      <td>68.0</td>\n",
              "      <td>63.3</td>\n",
              "      <td>84.0</td>\n",
              "      <td>75.0</td>\n",
              "      <td>200</td>\n",
              "      <td>81.0</td>\n",
              "      <td>17.50</td>\n",
              "      <td>12.35</td>\n",
              "      <td>0.00</td>\n",
              "      <td>0.00</td>\n",
              "      <td>159.66</td>\n",
              "      <td>164.04</td>\n",
              "      <td>Golovkin</td>\n",
              "    </tr>\n",
              "    <tr>\n",
              "      <th>3</th>\n",
              "      <td>Chazz Witherspoon</td>\n",
              "      <td>Oleksandr Usyk</td>\n",
              "      <td>69</td>\n",
              "      <td>69</td>\n",
              "      <td>59.6</td>\n",
              "      <td>68.9</td>\n",
              "      <td>79.0</td>\n",
              "      <td>80.0</td>\n",
              "      <td>182</td>\n",
              "      <td>125.0</td>\n",
              "      <td>15.93</td>\n",
              "      <td>9.60</td>\n",
              "      <td>4.76</td>\n",
              "      <td>NaN</td>\n",
              "      <td>292.71</td>\n",
              "      <td>200.10</td>\n",
              "      <td>Usyk</td>\n",
              "    </tr>\n",
              "    <tr>\n",
              "      <th>4</th>\n",
              "      <td>Ebenezer Tetteh</td>\n",
              "      <td>Daniel Dubois</td>\n",
              "      <td>46</td>\n",
              "      <td>46</td>\n",
              "      <td>NaN</td>\n",
              "      <td>44.4</td>\n",
              "      <td>50.0</td>\n",
              "      <td>69.0</td>\n",
              "      <td>38</td>\n",
              "      <td>39.0</td>\n",
              "      <td>23.68</td>\n",
              "      <td>30.77</td>\n",
              "      <td>0.00</td>\n",
              "      <td>0.00</td>\n",
              "      <td>178.67</td>\n",
              "      <td>230.38</td>\n",
              "      <td>Dubois</td>\n",
              "    </tr>\n",
              "    <tr>\n",
              "      <th>...</th>\n",
              "      <td>...</td>\n",
              "      <td>...</td>\n",
              "      <td>...</td>\n",
              "      <td>...</td>\n",
              "      <td>...</td>\n",
              "      <td>...</td>\n",
              "      <td>...</td>\n",
              "      <td>...</td>\n",
              "      <td>...</td>\n",
              "      <td>...</td>\n",
              "      <td>...</td>\n",
              "      <td>...</td>\n",
              "      <td>...</td>\n",
              "      <td>...</td>\n",
              "      <td>...</td>\n",
              "      <td>...</td>\n",
              "      <td>...</td>\n",
              "    </tr>\n",
              "    <tr>\n",
              "      <th>147</th>\n",
              "      <td>Theophilus Tetteh</td>\n",
              "      <td>Anthony Fowler</td>\n",
              "      <td>56</td>\n",
              "      <td>56</td>\n",
              "      <td>41.7</td>\n",
              "      <td>45.7</td>\n",
              "      <td>67.0</td>\n",
              "      <td>60.0</td>\n",
              "      <td>147</td>\n",
              "      <td>65.0</td>\n",
              "      <td>6.12</td>\n",
              "      <td>13.85</td>\n",
              "      <td>8.00</td>\n",
              "      <td>NaN</td>\n",
              "      <td>154.88</td>\n",
              "      <td>155.90</td>\n",
              "      <td>Fowler</td>\n",
              "    </tr>\n",
              "    <tr>\n",
              "      <th>148</th>\n",
              "      <td>Deontay Wilder</td>\n",
              "      <td>Tyson Fury</td>\n",
              "      <td>88</td>\n",
              "      <td>88</td>\n",
              "      <td>63.9</td>\n",
              "      <td>66.9</td>\n",
              "      <td>83.0</td>\n",
              "      <td>86.0</td>\n",
              "      <td>143</td>\n",
              "      <td>186.0</td>\n",
              "      <td>28.67</td>\n",
              "      <td>10.75</td>\n",
              "      <td>0.00</td>\n",
              "      <td>0.00</td>\n",
              "      <td>242.40</td>\n",
              "      <td>247.50</td>\n",
              "      <td>Fury</td>\n",
              "    </tr>\n",
              "    <tr>\n",
              "      <th>149</th>\n",
              "      <td>Scott Quigg</td>\n",
              "      <td>Jono Carroll</td>\n",
              "      <td>75</td>\n",
              "      <td>75</td>\n",
              "      <td>63.4</td>\n",
              "      <td>52.2</td>\n",
              "      <td>76.0</td>\n",
              "      <td>63.0</td>\n",
              "      <td>200</td>\n",
              "      <td>122.0</td>\n",
              "      <td>13.00</td>\n",
              "      <td>NaN</td>\n",
              "      <td>0.00</td>\n",
              "      <td>0.00</td>\n",
              "      <td>124.80</td>\n",
              "      <td>133.43</td>\n",
              "      <td>Carroll</td>\n",
              "    </tr>\n",
              "    <tr>\n",
              "      <th>150</th>\n",
              "      <td>Joe Hughes</td>\n",
              "      <td>Sam Maxwell</td>\n",
              "      <td>57</td>\n",
              "      <td>57</td>\n",
              "      <td>52.3</td>\n",
              "      <td>NaN</td>\n",
              "      <td>65.0</td>\n",
              "      <td>NaN</td>\n",
              "      <td>182</td>\n",
              "      <td>NaN</td>\n",
              "      <td>3.85</td>\n",
              "      <td>NaN</td>\n",
              "      <td>0.00</td>\n",
              "      <td>0.00</td>\n",
              "      <td>141.86</td>\n",
              "      <td>NaN</td>\n",
              "      <td>Maxwell</td>\n",
              "    </tr>\n",
              "    <tr>\n",
              "      <th>151</th>\n",
              "      <td>Vasyl Lomachenko</td>\n",
              "      <td>Teofimo Lopez</td>\n",
              "      <td>71</td>\n",
              "      <td>71</td>\n",
              "      <td>73.9</td>\n",
              "      <td>58.1</td>\n",
              "      <td>78.0</td>\n",
              "      <td>76.0</td>\n",
              "      <td>131</td>\n",
              "      <td>58.0</td>\n",
              "      <td>7.63</td>\n",
              "      <td>18.97</td>\n",
              "      <td>0.00</td>\n",
              "      <td>0.00</td>\n",
              "      <td>127.11</td>\n",
              "      <td>139.60</td>\n",
              "      <td>Lopez</td>\n",
              "    </tr>\n",
              "  </tbody>\n",
              "</table>\n",
              "<p>152 rows × 17 columns</p>\n",
              "</div>\n",
              "      <button class=\"colab-df-convert\" onclick=\"convertToInteractive('df-398d35b9-2047-4860-abf4-eb57c6b1bd0c')\"\n",
              "              title=\"Convert this dataframe to an interactive table.\"\n",
              "              style=\"display:none;\">\n",
              "        \n",
              "  <svg xmlns=\"http://www.w3.org/2000/svg\" height=\"24px\"viewBox=\"0 0 24 24\"\n",
              "       width=\"24px\">\n",
              "    <path d=\"M0 0h24v24H0V0z\" fill=\"none\"/>\n",
              "    <path d=\"M18.56 5.44l.94 2.06.94-2.06 2.06-.94-2.06-.94-.94-2.06-.94 2.06-2.06.94zm-11 1L8.5 8.5l.94-2.06 2.06-.94-2.06-.94L8.5 2.5l-.94 2.06-2.06.94zm10 10l.94 2.06.94-2.06 2.06-.94-2.06-.94-.94-2.06-.94 2.06-2.06.94z\"/><path d=\"M17.41 7.96l-1.37-1.37c-.4-.4-.92-.59-1.43-.59-.52 0-1.04.2-1.43.59L10.3 9.45l-7.72 7.72c-.78.78-.78 2.05 0 2.83L4 21.41c.39.39.9.59 1.41.59.51 0 1.02-.2 1.41-.59l7.78-7.78 2.81-2.81c.8-.78.8-2.07 0-2.86zM5.41 20L4 18.59l7.72-7.72 1.47 1.35L5.41 20z\"/>\n",
              "  </svg>\n",
              "      </button>\n",
              "      \n",
              "  <style>\n",
              "    .colab-df-container {\n",
              "      display:flex;\n",
              "      flex-wrap:wrap;\n",
              "      gap: 12px;\n",
              "    }\n",
              "\n",
              "    .colab-df-convert {\n",
              "      background-color: #E8F0FE;\n",
              "      border: none;\n",
              "      border-radius: 50%;\n",
              "      cursor: pointer;\n",
              "      display: none;\n",
              "      fill: #1967D2;\n",
              "      height: 32px;\n",
              "      padding: 0 0 0 0;\n",
              "      width: 32px;\n",
              "    }\n",
              "\n",
              "    .colab-df-convert:hover {\n",
              "      background-color: #E2EBFA;\n",
              "      box-shadow: 0px 1px 2px rgba(60, 64, 67, 0.3), 0px 1px 3px 1px rgba(60, 64, 67, 0.15);\n",
              "      fill: #174EA6;\n",
              "    }\n",
              "\n",
              "    [theme=dark] .colab-df-convert {\n",
              "      background-color: #3B4455;\n",
              "      fill: #D2E3FC;\n",
              "    }\n",
              "\n",
              "    [theme=dark] .colab-df-convert:hover {\n",
              "      background-color: #434B5C;\n",
              "      box-shadow: 0px 1px 3px 1px rgba(0, 0, 0, 0.15);\n",
              "      filter: drop-shadow(0px 1px 2px rgba(0, 0, 0, 0.3));\n",
              "      fill: #FFFFFF;\n",
              "    }\n",
              "  </style>\n",
              "\n",
              "      <script>\n",
              "        const buttonEl =\n",
              "          document.querySelector('#df-398d35b9-2047-4860-abf4-eb57c6b1bd0c button.colab-df-convert');\n",
              "        buttonEl.style.display =\n",
              "          google.colab.kernel.accessAllowed ? 'block' : 'none';\n",
              "\n",
              "        async function convertToInteractive(key) {\n",
              "          const element = document.querySelector('#df-398d35b9-2047-4860-abf4-eb57c6b1bd0c');\n",
              "          const dataTable =\n",
              "            await google.colab.kernel.invokeFunction('convertToInteractive',\n",
              "                                                     [key], {});\n",
              "          if (!dataTable) return;\n",
              "\n",
              "          const docLinkHtml = 'Like what you see? Visit the ' +\n",
              "            '<a target=\"_blank\" href=https://colab.research.google.com/notebooks/data_table.ipynb>data table notebook</a>'\n",
              "            + ' to learn more about interactive tables.';\n",
              "          element.innerHTML = '';\n",
              "          dataTable['output_type'] = 'display_data';\n",
              "          await google.colab.output.renderOutput(dataTable, element);\n",
              "          const docLink = document.createElement('div');\n",
              "          docLink.innerHTML = docLinkHtml;\n",
              "          element.appendChild(docLink);\n",
              "        }\n",
              "      </script>\n",
              "    </div>\n",
              "  </div>\n",
              "  "
            ]
          },
          "metadata": {},
          "execution_count": 10
        }
      ]
    },
    {
      "cell_type": "code",
      "source": [
        "for i in range(152):\n",
        "  if(data.winner[i] in data.opponent_1[i]):\n",
        "    data.winner[i]= data.opponent_1[i]\n",
        "  elif(data.winner[i] in data.opponent_2[i]):\n",
        "    data.winner[i]= data.opponent_2[i]\n",
        "  else:\n",
        "    data.winner[i] = 'draw'"
      ],
      "metadata": {
        "colab": {
          "base_uri": "https://localhost:8080/"
        },
        "id": "4U2qYRa_RsZm",
        "outputId": "66805937-c110-4c20-d97b-81e78711d916"
      },
      "execution_count": null,
      "outputs": [
        {
          "output_type": "stream",
          "name": "stderr",
          "text": [
            "<ipython-input-11-953e54459b2d>:3: SettingWithCopyWarning: \n",
            "A value is trying to be set on a copy of a slice from a DataFrame\n",
            "\n",
            "See the caveats in the documentation: https://pandas.pydata.org/pandas-docs/stable/user_guide/indexing.html#returning-a-view-versus-a-copy\n",
            "  data.winner[i]= data.opponent_1[i]\n",
            "<ipython-input-11-953e54459b2d>:5: SettingWithCopyWarning: \n",
            "A value is trying to be set on a copy of a slice from a DataFrame\n",
            "\n",
            "See the caveats in the documentation: https://pandas.pydata.org/pandas-docs/stable/user_guide/indexing.html#returning-a-view-versus-a-copy\n",
            "  data.winner[i]= data.opponent_2[i]\n",
            "<ipython-input-11-953e54459b2d>:7: SettingWithCopyWarning: \n",
            "A value is trying to be set on a copy of a slice from a DataFrame\n",
            "\n",
            "See the caveats in the documentation: https://pandas.pydata.org/pandas-docs/stable/user_guide/indexing.html#returning-a-view-versus-a-copy\n",
            "  data.winner[i] = 'draw'\n"
          ]
        }
      ]
    },
    {
      "cell_type": "code",
      "source": [
        "data['winner']"
      ],
      "metadata": {
        "colab": {
          "base_uri": "https://localhost:8080/"
        },
        "id": "btguqb37TxMu",
        "outputId": "ea60d590-8cde-4267-8791-0e07d6ffd91c"
      },
      "execution_count": null,
      "outputs": [
        {
          "output_type": "execute_result",
          "data": {
            "text/plain": [
              "0      Vasyl Lomachenko \n",
              "1          Sam Eggington\n",
              "2      Gennady Golovkin \n",
              "3         Oleksandr Usyk\n",
              "4          Daniel Dubois\n",
              "             ...        \n",
              "147       Anthony Fowler\n",
              "148           Tyson Fury\n",
              "149         Jono Carroll\n",
              "150          Sam Maxwell\n",
              "151        Teofimo Lopez\n",
              "Name: winner, Length: 152, dtype: object"
            ]
          },
          "metadata": {},
          "execution_count": 12
        }
      ]
    },
    {
      "cell_type": "code",
      "source": [
        "opponents = data.iloc[:,[0,1]]"
      ],
      "metadata": {
        "id": "3_id8BUpVa2Q"
      },
      "execution_count": null,
      "outputs": []
    },
    {
      "cell_type": "code",
      "source": [
        "for i in range(152):\n",
        "  opponents.opponent_1[i] = opponents.opponent_1[i].strip()\n",
        "  opponents.opponent_2[i] = opponents.opponent_2[i].strip()"
      ],
      "metadata": {
        "colab": {
          "base_uri": "https://localhost:8080/"
        },
        "id": "LcMOshyQn0eU",
        "outputId": "829c1b0c-b525-48b3-daf9-5dda0794174a"
      },
      "execution_count": null,
      "outputs": [
        {
          "output_type": "stream",
          "name": "stderr",
          "text": [
            "<ipython-input-14-af19641b7fad>:2: SettingWithCopyWarning: \n",
            "A value is trying to be set on a copy of a slice from a DataFrame\n",
            "\n",
            "See the caveats in the documentation: https://pandas.pydata.org/pandas-docs/stable/user_guide/indexing.html#returning-a-view-versus-a-copy\n",
            "  opponents.opponent_1[i] = opponents.opponent_1[i].strip()\n",
            "<ipython-input-14-af19641b7fad>:3: SettingWithCopyWarning: \n",
            "A value is trying to be set on a copy of a slice from a DataFrame\n",
            "\n",
            "See the caveats in the documentation: https://pandas.pydata.org/pandas-docs/stable/user_guide/indexing.html#returning-a-view-versus-a-copy\n",
            "  opponents.opponent_2[i] = opponents.opponent_2[i].strip()\n"
          ]
        }
      ]
    },
    {
      "cell_type": "code",
      "source": [
        "data.drop(['opponent_1','opponent_2'],axis = 1,inplace = True)"
      ],
      "metadata": {
        "id": "wysAtNc2WzMf"
      },
      "execution_count": null,
      "outputs": []
    },
    {
      "cell_type": "code",
      "source": [
        "data.iloc[14]"
      ],
      "metadata": {
        "colab": {
          "base_uri": "https://localhost:8080/"
        },
        "id": "RU13cldybMlN",
        "outputId": "3288f748-d8cb-4b98-84c3-b95c858504f4"
      },
      "execution_count": null,
      "outputs": [
        {
          "output_type": "execute_result",
          "data": {
            "text/plain": [
              "opponent_1_estimated_punch_power                51\n",
              "opponent_2_estimated_punch_power                51\n",
              "opponent_1_estimated_punch_resistance         51.7\n",
              "opponent_2_estimated_punch_resistance          NaN\n",
              "opponent_1_estimated_ability_to_take_punch    53.0\n",
              "opponent_2_estimated_ability_to_take_punch     NaN\n",
              "opponent_1_rounds_boxed                         74\n",
              "opponent_2_rounds_boxed                        NaN\n",
              "opponent_1_round_ko_percentage                 2.7\n",
              "opponent_2_round_ko_percentage                 NaN\n",
              "opponent_1_has_been_ko_percentage              0.0\n",
              "opponent_2_has_been_ko_percentage              0.0\n",
              "opponent_1_avg_weight                          0.0\n",
              "opponent_2_avg_weight                          0.0\n",
              "winner                                        draw\n",
              "Name: 14, dtype: object"
            ]
          },
          "metadata": {},
          "execution_count": 16
        }
      ]
    },
    {
      "cell_type": "code",
      "source": [
        "for i in range(152):\n",
        "  if data.winner[i].strip() == opponents.opponent_1[i]:\n",
        "    print(data.winner[i])\n",
        "    data.winner[i] = 1\n",
        "  elif data.winner[i].strip() == opponents.opponent_2[i]:\n",
        "    data.winner[i] = 2\n",
        "  else:\n",
        "    data.winner[i] = 3\n"
      ],
      "metadata": {
        "colab": {
          "base_uri": "https://localhost:8080/"
        },
        "id": "TGKD5ZdnXLt2",
        "outputId": "a2f078ff-b2a6-4883-c33d-4d0bd5ffd9aa"
      },
      "execution_count": null,
      "outputs": [
        {
          "output_type": "stream",
          "name": "stderr",
          "text": [
            "<ipython-input-17-c78a752bf136>:4: SettingWithCopyWarning: \n",
            "A value is trying to be set on a copy of a slice from a DataFrame\n",
            "\n",
            "See the caveats in the documentation: https://pandas.pydata.org/pandas-docs/stable/user_guide/indexing.html#returning-a-view-versus-a-copy\n",
            "  data.winner[i] = 1\n",
            "<ipython-input-17-c78a752bf136>:6: SettingWithCopyWarning: \n",
            "A value is trying to be set on a copy of a slice from a DataFrame\n",
            "\n",
            "See the caveats in the documentation: https://pandas.pydata.org/pandas-docs/stable/user_guide/indexing.html#returning-a-view-versus-a-copy\n",
            "  data.winner[i] = 2\n",
            "<ipython-input-17-c78a752bf136>:8: SettingWithCopyWarning: \n",
            "A value is trying to be set on a copy of a slice from a DataFrame\n",
            "\n",
            "See the caveats in the documentation: https://pandas.pydata.org/pandas-docs/stable/user_guide/indexing.html#returning-a-view-versus-a-copy\n",
            "  data.winner[i] = 3\n"
          ]
        },
        {
          "output_type": "stream",
          "name": "stdout",
          "text": [
            "Vasyl Lomachenko \n",
            "Gennady Golovkin \n",
            "Tyson Fury \n",
            "Alexander Povetkin \n",
            "Artur Beterbiev \n",
            "Dereck Chisora \n",
            "Olajide William Olatunji \n",
            "Mike Tyson \n",
            "Mike Tyson \n",
            "Sugar Ray Leonard \n",
            "Mike Tyson \n",
            "Saul Alvarez \n",
            "Deontay Wilder \n",
            "Deontay Wilder \n",
            "Tyson Fury \n",
            "Deontay Wilder \n",
            "Deontay Wilder \n",
            "Andy Ruiz Jr \n",
            "Saul Alvarez \n",
            "Callum Smith \n",
            "Andy Ruiz Jr \n",
            "Tyson Fury \n",
            "Anthony Joshua \n",
            "Jorge Linares \n",
            "Saul Alvarez \n",
            "Deontay Wilder \n",
            "Daniel Dubois \n",
            "Daniel Dubois \n",
            "Floyd Mayweather Jr \n",
            "Jorge Linares \n",
            "Errol Spence Jr \n",
            "Dillian Whyte \n",
            "Carl Frampton \n",
            "Saul Alvarez \n",
            "Tony Dixon \n",
            "David Price \n",
            "Saul Alvarez \n",
            "Manny Pacquiao \n",
            "Josh Warrington \n",
            "Robbie Davies Jnr \n",
            "Deontay Wilder \n",
            "Andy Ruiz Jr \n",
            "Tyson Fury \n",
            "Dillian Whyte \n",
            "Vincent Feigenbutz \n",
            "Sergey Kovalev \n",
            "Carl Frampton \n",
            "Callum Smith \n",
            "Jermall Charlo \n"
          ]
        }
      ]
    },
    {
      "cell_type": "code",
      "source": [
        "data.winner.value_counts()"
      ],
      "metadata": {
        "colab": {
          "base_uri": "https://localhost:8080/"
        },
        "id": "SYyvl6nXMYnj",
        "outputId": "13f90736-c49a-4539-a0a3-9c76e6210bc9"
      },
      "execution_count": null,
      "outputs": [
        {
          "output_type": "execute_result",
          "data": {
            "text/plain": [
              "2    96\n",
              "1    49\n",
              "3     7\n",
              "Name: winner, dtype: int64"
            ]
          },
          "metadata": {},
          "execution_count": 18
        }
      ]
    },
    {
      "cell_type": "code",
      "source": [
        "for i in data.columns:\n",
        "  data[i].fillna(0,inplace = True)"
      ],
      "metadata": {
        "id": "NIK_JU_GxAnf"
      },
      "execution_count": null,
      "outputs": []
    },
    {
      "cell_type": "code",
      "source": [
        "data.isnull().sum().sum()"
      ],
      "metadata": {
        "colab": {
          "base_uri": "https://localhost:8080/"
        },
        "id": "4gSWYwZYxny2",
        "outputId": "194dd63e-8513-4394-ef81-9ce901ab32f4"
      },
      "execution_count": null,
      "outputs": [
        {
          "output_type": "execute_result",
          "data": {
            "text/plain": [
              "0"
            ]
          },
          "metadata": {},
          "execution_count": 20
        }
      ]
    },
    {
      "cell_type": "code",
      "source": [
        "targetop = data.winner\n",
        "parameters = data.drop('winner',axis = 1)\n",
        "Standardisation = StandardScaler()\n",
        "standard_parameters = Standardisation.fit_transform(parameters)"
      ],
      "metadata": {
        "id": "3oX6ezSexqIC"
      },
      "execution_count": null,
      "outputs": []
    },
    {
      "cell_type": "code",
      "source": [
        "standard_parameters[19]"
      ],
      "metadata": {
        "colab": {
          "base_uri": "https://localhost:8080/"
        },
        "id": "dms9QXJCJdU0",
        "outputId": "a25ecabb-78d5-47ce-a3f4-82e44977b6e9"
      },
      "execution_count": null,
      "outputs": [
        {
          "output_type": "execute_result",
          "data": {
            "text/plain": [
              "array([ 0.4515786 ,  0.4515786 ,  0.91136909,  0.56689522,  0.78604475,\n",
              "        1.08348894,  1.05153114,  3.24524439, -0.25828652, -0.37667568,\n",
              "       -0.52021035, -0.28447571, -0.50905176,  0.01322026])"
            ]
          },
          "metadata": {},
          "execution_count": 22
        }
      ]
    },
    {
      "cell_type": "code",
      "source": [
        "data.winner.value_counts()"
      ],
      "metadata": {
        "colab": {
          "base_uri": "https://localhost:8080/"
        },
        "id": "7OKoYj4hQEGK",
        "outputId": "e8f249ba-bab6-4cb9-cf42-88615c42efb6"
      },
      "execution_count": null,
      "outputs": [
        {
          "output_type": "execute_result",
          "data": {
            "text/plain": [
              "2    96\n",
              "1    49\n",
              "3     7\n",
              "Name: winner, dtype: int64"
            ]
          },
          "metadata": {},
          "execution_count": 23
        }
      ]
    },
    {
      "cell_type": "code",
      "source": [
        "x_train, x_test, y_train, y_test = train_test_split(standard_parameters,targetop,test_size=0.2,random_state = 42)"
      ],
      "metadata": {
        "id": "HuChMBqByFpc"
      },
      "execution_count": null,
      "outputs": []
    },
    {
      "cell_type": "code",
      "source": [
        "y_train.value_counts()+y_test.value_counts()"
      ],
      "metadata": {
        "colab": {
          "base_uri": "https://localhost:8080/"
        },
        "id": "99xtUsfTLOOa",
        "outputId": "896d6d07-e3d9-476d-ab70-9634dfd6d04d"
      },
      "execution_count": null,
      "outputs": [
        {
          "output_type": "execute_result",
          "data": {
            "text/plain": [
              "1    49\n",
              "2    96\n",
              "3     7\n",
              "Name: winner, dtype: int64"
            ]
          },
          "metadata": {},
          "execution_count": 25
        }
      ]
    },
    {
      "cell_type": "code",
      "source": [
        "clf = RandomForestClassifier()"
      ],
      "metadata": {
        "id": "4A0vfRcVyI1x"
      },
      "execution_count": null,
      "outputs": []
    },
    {
      "cell_type": "code",
      "source": [
        "clf.fit(x_train, y_train)"
      ],
      "metadata": {
        "colab": {
          "base_uri": "https://localhost:8080/",
          "height": 74
        },
        "id": "gzsJvjnyyLVS",
        "outputId": "e9eaff5e-3dcc-4b7a-d74e-65f2fdac9f4b"
      },
      "execution_count": null,
      "outputs": [
        {
          "output_type": "execute_result",
          "data": {
            "text/plain": [
              "RandomForestClassifier()"
            ],
            "text/html": [
              "<style>#sk-container-id-1 {color: black;background-color: white;}#sk-container-id-1 pre{padding: 0;}#sk-container-id-1 div.sk-toggleable {background-color: white;}#sk-container-id-1 label.sk-toggleable__label {cursor: pointer;display: block;width: 100%;margin-bottom: 0;padding: 0.3em;box-sizing: border-box;text-align: center;}#sk-container-id-1 label.sk-toggleable__label-arrow:before {content: \"▸\";float: left;margin-right: 0.25em;color: #696969;}#sk-container-id-1 label.sk-toggleable__label-arrow:hover:before {color: black;}#sk-container-id-1 div.sk-estimator:hover label.sk-toggleable__label-arrow:before {color: black;}#sk-container-id-1 div.sk-toggleable__content {max-height: 0;max-width: 0;overflow: hidden;text-align: left;background-color: #f0f8ff;}#sk-container-id-1 div.sk-toggleable__content pre {margin: 0.2em;color: black;border-radius: 0.25em;background-color: #f0f8ff;}#sk-container-id-1 input.sk-toggleable__control:checked~div.sk-toggleable__content {max-height: 200px;max-width: 100%;overflow: auto;}#sk-container-id-1 input.sk-toggleable__control:checked~label.sk-toggleable__label-arrow:before {content: \"▾\";}#sk-container-id-1 div.sk-estimator input.sk-toggleable__control:checked~label.sk-toggleable__label {background-color: #d4ebff;}#sk-container-id-1 div.sk-label input.sk-toggleable__control:checked~label.sk-toggleable__label {background-color: #d4ebff;}#sk-container-id-1 input.sk-hidden--visually {border: 0;clip: rect(1px 1px 1px 1px);clip: rect(1px, 1px, 1px, 1px);height: 1px;margin: -1px;overflow: hidden;padding: 0;position: absolute;width: 1px;}#sk-container-id-1 div.sk-estimator {font-family: monospace;background-color: #f0f8ff;border: 1px dotted black;border-radius: 0.25em;box-sizing: border-box;margin-bottom: 0.5em;}#sk-container-id-1 div.sk-estimator:hover {background-color: #d4ebff;}#sk-container-id-1 div.sk-parallel-item::after {content: \"\";width: 100%;border-bottom: 1px solid gray;flex-grow: 1;}#sk-container-id-1 div.sk-label:hover label.sk-toggleable__label {background-color: #d4ebff;}#sk-container-id-1 div.sk-serial::before {content: \"\";position: absolute;border-left: 1px solid gray;box-sizing: border-box;top: 0;bottom: 0;left: 50%;z-index: 0;}#sk-container-id-1 div.sk-serial {display: flex;flex-direction: column;align-items: center;background-color: white;padding-right: 0.2em;padding-left: 0.2em;position: relative;}#sk-container-id-1 div.sk-item {position: relative;z-index: 1;}#sk-container-id-1 div.sk-parallel {display: flex;align-items: stretch;justify-content: center;background-color: white;position: relative;}#sk-container-id-1 div.sk-item::before, #sk-container-id-1 div.sk-parallel-item::before {content: \"\";position: absolute;border-left: 1px solid gray;box-sizing: border-box;top: 0;bottom: 0;left: 50%;z-index: -1;}#sk-container-id-1 div.sk-parallel-item {display: flex;flex-direction: column;z-index: 1;position: relative;background-color: white;}#sk-container-id-1 div.sk-parallel-item:first-child::after {align-self: flex-end;width: 50%;}#sk-container-id-1 div.sk-parallel-item:last-child::after {align-self: flex-start;width: 50%;}#sk-container-id-1 div.sk-parallel-item:only-child::after {width: 0;}#sk-container-id-1 div.sk-dashed-wrapped {border: 1px dashed gray;margin: 0 0.4em 0.5em 0.4em;box-sizing: border-box;padding-bottom: 0.4em;background-color: white;}#sk-container-id-1 div.sk-label label {font-family: monospace;font-weight: bold;display: inline-block;line-height: 1.2em;}#sk-container-id-1 div.sk-label-container {text-align: center;}#sk-container-id-1 div.sk-container {/* jupyter's `normalize.less` sets `[hidden] { display: none; }` but bootstrap.min.css set `[hidden] { display: none !important; }` so we also need the `!important` here to be able to override the default hidden behavior on the sphinx rendered scikit-learn.org. See: https://github.com/scikit-learn/scikit-learn/issues/21755 */display: inline-block !important;position: relative;}#sk-container-id-1 div.sk-text-repr-fallback {display: none;}</style><div id=\"sk-container-id-1\" class=\"sk-top-container\"><div class=\"sk-text-repr-fallback\"><pre>RandomForestClassifier()</pre><b>In a Jupyter environment, please rerun this cell to show the HTML representation or trust the notebook. <br />On GitHub, the HTML representation is unable to render, please try loading this page with nbviewer.org.</b></div><div class=\"sk-container\" hidden><div class=\"sk-item\"><div class=\"sk-estimator sk-toggleable\"><input class=\"sk-toggleable__control sk-hidden--visually\" id=\"sk-estimator-id-1\" type=\"checkbox\" checked><label for=\"sk-estimator-id-1\" class=\"sk-toggleable__label sk-toggleable__label-arrow\">RandomForestClassifier</label><div class=\"sk-toggleable__content\"><pre>RandomForestClassifier()</pre></div></div></div></div></div>"
            ]
          },
          "metadata": {},
          "execution_count": 27
        }
      ]
    },
    {
      "cell_type": "code",
      "source": [
        "prediction1 = clf.predict(x_test)"
      ],
      "metadata": {
        "id": "unbW7ZSxyNL6"
      },
      "execution_count": null,
      "outputs": []
    },
    {
      "cell_type": "code",
      "source": [
        "accuracy = clf.score(x_test, y_test)\n",
        "print('Accuracy:', accuracy)"
      ],
      "metadata": {
        "id": "3DJjCTKMyOzw",
        "colab": {
          "base_uri": "https://localhost:8080/"
        },
        "outputId": "af778ead-9854-47a9-bfcd-ca64ea5438f3"
      },
      "execution_count": null,
      "outputs": [
        {
          "output_type": "stream",
          "name": "stdout",
          "text": [
            "Accuracy: 0.6129032258064516\n"
          ]
        }
      ]
    },
    {
      "cell_type": "code",
      "source": [
        "clf1 = DecisionTreeClassifier()"
      ],
      "metadata": {
        "id": "QrnNWPKn57b2"
      },
      "execution_count": null,
      "outputs": []
    },
    {
      "cell_type": "code",
      "source": [
        "clf1.fit(x_train, y_train)\n",
        "prediction2 = clf1.predict(x_test)\n",
        "accuracy = clf1.score(x_test, y_test)\n",
        "print('Accuracy:', accuracy)"
      ],
      "metadata": {
        "id": "glrnRMmS5_lD",
        "outputId": "54a00851-78eb-414f-c3c6-e7e4ee1806d8",
        "colab": {
          "base_uri": "https://localhost:8080/"
        }
      },
      "execution_count": null,
      "outputs": [
        {
          "output_type": "stream",
          "name": "stdout",
          "text": [
            "Accuracy: 0.7419354838709677\n"
          ]
        }
      ]
    },
    {
      "cell_type": "code",
      "source": [
        "clf = LogisticRegression(random_state=0)\n",
        "clf.fit(x_train, y_train)\n",
        "\n",
        "# evaluate the classifier on the testing data\n",
        "accuracy = clf.score(x_test, y_test)\n",
        "print('Accuracy:', accuracy)\n"
      ],
      "metadata": {
        "colab": {
          "base_uri": "https://localhost:8080/"
        },
        "id": "maepG0Bo5nIF",
        "outputId": "0bf97dc7-954b-4a34-b7d4-25f43c8fab83"
      },
      "execution_count": null,
      "outputs": [
        {
          "output_type": "stream",
          "name": "stdout",
          "text": [
            "Accuracy: 0.6451612903225806\n"
          ]
        }
      ]
    },
    {
      "cell_type": "code",
      "source": [
        "svc_model = SVC()\n",
        "svc_model.fit(x_train, y_train)\n",
        "prediction3 = svc_model .predict(x_test)\n",
        "print(accuracy_score(y_test,prediction3))"
      ],
      "metadata": {
        "id": "OU4X21WayQ8C",
        "colab": {
          "base_uri": "https://localhost:8080/"
        },
        "outputId": "4143bac7-1eb3-4c94-803c-19b48d3a91bc"
      },
      "execution_count": null,
      "outputs": [
        {
          "output_type": "stream",
          "name": "stdout",
          "text": [
            "0.5161290322580645\n"
          ]
        }
      ]
    },
    {
      "cell_type": "code",
      "source": [
        "knn = KNeighborsClassifier(n_neighbors=5)\n",
        "knn.fit(x_train, y_train)\n",
        "prediction4 = knn.predict(x_test)\n",
        "accuracy = knn.score(x_test, y_test)\n",
        "print('Accuracy:', accuracy)"
      ],
      "metadata": {
        "id": "2-Jc5PlCzndS",
        "colab": {
          "base_uri": "https://localhost:8080/"
        },
        "outputId": "5e064149-6508-4d9b-8064-25fa3355a9e1"
      },
      "execution_count": null,
      "outputs": [
        {
          "output_type": "stream",
          "name": "stdout",
          "text": [
            "Accuracy: 0.4838709677419355\n"
          ]
        }
      ]
    },
    {
      "cell_type": "code",
      "source": [
        "from sklearn.naive_bayes import GaussianNB"
      ],
      "metadata": {
        "id": "HF0fDbKM0psj"
      },
      "execution_count": null,
      "outputs": []
    },
    {
      "cell_type": "code",
      "source": [
        "clf = GaussianNB()\n",
        "\n",
        "# train the Naive Bayes classifier on the training data\n",
        "clf.fit(x_train, y_train)\n",
        "\n",
        "# make predictions on the testing data\n",
        "prediction5 = clf.predict(x_test)\n",
        "\n",
        "# calculate the accuracy of the classifier\n",
        "accuracy = clf.score(x_test, y_test)\n",
        "print('Accuracy:', accuracy)"
      ],
      "metadata": {
        "id": "WtIOq40n0yrz",
        "colab": {
          "base_uri": "https://localhost:8080/"
        },
        "outputId": "d22183f4-9060-4578-91a9-c213f5cd5c9f"
      },
      "execution_count": null,
      "outputs": [
        {
          "output_type": "stream",
          "name": "stdout",
          "text": [
            "Accuracy: 0.5483870967741935\n"
          ]
        }
      ]
    },
    {
      "cell_type": "code",
      "source": [
        "pip install gradio\n"
      ],
      "metadata": {
        "id": "5mPxm24xgEEw",
        "colab": {
          "base_uri": "https://localhost:8080/"
        },
        "outputId": "98d5f40b-9868-440d-e909-7096c5ee405c"
      },
      "execution_count": null,
      "outputs": [
        {
          "output_type": "stream",
          "name": "stdout",
          "text": [
            "Looking in indexes: https://pypi.org/simple, https://us-python.pkg.dev/colab-wheels/public/simple/\n",
            "Collecting gradio\n",
            "  Downloading gradio-3.23.0-py3-none-any.whl (15.8 MB)\n",
            "\u001b[2K     \u001b[90m━━━━━━━━━━━━━━━━━━━━━━━━━━━━━━━━━━━━━━━━\u001b[0m \u001b[32m15.8/15.8 MB\u001b[0m \u001b[31m49.6 MB/s\u001b[0m eta \u001b[36m0:00:00\u001b[0m\n",
            "\u001b[?25hRequirement already satisfied: jinja2 in /usr/local/lib/python3.9/dist-packages (from gradio) (3.1.2)\n",
            "Collecting websockets>=10.0\n",
            "  Downloading websockets-10.4-cp39-cp39-manylinux_2_5_x86_64.manylinux1_x86_64.manylinux_2_17_x86_64.manylinux2014_x86_64.whl (106 kB)\n",
            "\u001b[2K     \u001b[90m━━━━━━━━━━━━━━━━━━━━━━━━━━━━━━━━━━━━━━━\u001b[0m \u001b[32m106.5/106.5 KB\u001b[0m \u001b[31m8.7 MB/s\u001b[0m eta \u001b[36m0:00:00\u001b[0m\n",
            "\u001b[?25hCollecting orjson\n",
            "  Downloading orjson-3.8.8-cp39-cp39-manylinux_2_28_x86_64.whl (143 kB)\n",
            "\u001b[2K     \u001b[90m━━━━━━━━━━━━━━━━━━━━━━━━━━━━━━━━━━━━━━\u001b[0m \u001b[32m143.5/143.5 KB\u001b[0m \u001b[31m17.3 MB/s\u001b[0m eta \u001b[36m0:00:00\u001b[0m\n",
            "\u001b[?25hCollecting huggingface-hub\n",
            "  Downloading huggingface_hub-0.13.3-py3-none-any.whl (199 kB)\n",
            "\u001b[2K     \u001b[90m━━━━━━━━━━━━━━━━━━━━━━━━━━━━━━━━━━━━━━\u001b[0m \u001b[32m199.8/199.8 KB\u001b[0m \u001b[31m20.4 MB/s\u001b[0m eta \u001b[36m0:00:00\u001b[0m\n",
            "\u001b[?25hRequirement already satisfied: altair>=4.2.0 in /usr/local/lib/python3.9/dist-packages (from gradio) (4.2.2)\n",
            "Requirement already satisfied: pandas in /usr/local/lib/python3.9/dist-packages (from gradio) (1.4.4)\n",
            "Requirement already satisfied: markupsafe in /usr/local/lib/python3.9/dist-packages (from gradio) (2.1.2)\n",
            "Requirement already satisfied: pyyaml in /usr/local/lib/python3.9/dist-packages (from gradio) (6.0)\n",
            "Collecting httpx\n",
            "  Downloading httpx-0.23.3-py3-none-any.whl (71 kB)\n",
            "\u001b[2K     \u001b[90m━━━━━━━━━━━━━━━━━━━━━━━━━━━━━━━━━━━━━━━━\u001b[0m \u001b[32m71.5/71.5 KB\u001b[0m \u001b[31m9.2 MB/s\u001b[0m eta \u001b[36m0:00:00\u001b[0m\n",
            "\u001b[?25hCollecting pydub\n",
            "  Downloading pydub-0.25.1-py2.py3-none-any.whl (32 kB)\n",
            "Collecting aiohttp\n",
            "  Downloading aiohttp-3.8.4-cp39-cp39-manylinux_2_17_x86_64.manylinux2014_x86_64.whl (1.0 MB)\n",
            "\u001b[2K     \u001b[90m━━━━━━━━━━━━━━━━━━━━━━━━━━━━━━━━━━━━━━━━\u001b[0m \u001b[32m1.0/1.0 MB\u001b[0m \u001b[31m62.5 MB/s\u001b[0m eta \u001b[36m0:00:00\u001b[0m\n",
            "\u001b[?25hRequirement already satisfied: fsspec in /usr/local/lib/python3.9/dist-packages (from gradio) (2023.3.0)\n",
            "Collecting mdit-py-plugins<=0.3.3\n",
            "  Downloading mdit_py_plugins-0.3.3-py3-none-any.whl (50 kB)\n",
            "\u001b[2K     \u001b[90m━━━━━━━━━━━━━━━━━━━━━━━━━━━━━━━━━━━━━━━━\u001b[0m \u001b[32m50.5/50.5 KB\u001b[0m \u001b[31m6.8 MB/s\u001b[0m eta \u001b[36m0:00:00\u001b[0m\n",
            "\u001b[?25hRequirement already satisfied: markdown-it-py[linkify]>=2.0.0 in /usr/local/lib/python3.9/dist-packages (from gradio) (2.2.0)\n",
            "Requirement already satisfied: typing-extensions in /usr/local/lib/python3.9/dist-packages (from gradio) (4.5.0)\n",
            "Collecting aiofiles\n",
            "  Downloading aiofiles-23.1.0-py3-none-any.whl (14 kB)\n",
            "Requirement already satisfied: pydantic in /usr/local/lib/python3.9/dist-packages (from gradio) (1.10.7)\n",
            "Requirement already satisfied: pillow in /usr/local/lib/python3.9/dist-packages (from gradio) (8.4.0)\n",
            "Requirement already satisfied: requests in /usr/local/lib/python3.9/dist-packages (from gradio) (2.27.1)\n",
            "Collecting semantic-version\n",
            "  Downloading semantic_version-2.10.0-py2.py3-none-any.whl (15 kB)\n",
            "Collecting python-multipart\n",
            "  Downloading python_multipart-0.0.6-py3-none-any.whl (45 kB)\n",
            "\u001b[2K     \u001b[90m━━━━━━━━━━━━━━━━━━━━━━━━━━━━━━━━━━━━━━━━\u001b[0m \u001b[32m45.7/45.7 KB\u001b[0m \u001b[31m5.6 MB/s\u001b[0m eta \u001b[36m0:00:00\u001b[0m\n",
            "\u001b[?25hRequirement already satisfied: matplotlib in /usr/local/lib/python3.9/dist-packages (from gradio) (3.7.1)\n",
            "Collecting uvicorn\n",
            "  Downloading uvicorn-0.21.1-py3-none-any.whl (57 kB)\n",
            "\u001b[2K     \u001b[90m━━━━━━━━━━━━━━━━━━━━━━━━━━━━━━━━━━━━━━━━\u001b[0m \u001b[32m57.8/57.8 KB\u001b[0m \u001b[31m7.2 MB/s\u001b[0m eta \u001b[36m0:00:00\u001b[0m\n",
            "\u001b[?25hCollecting ffmpy\n",
            "  Downloading ffmpy-0.3.0.tar.gz (4.8 kB)\n",
            "  Preparing metadata (setup.py) ... \u001b[?25l\u001b[?25hdone\n",
            "Requirement already satisfied: numpy in /usr/local/lib/python3.9/dist-packages (from gradio) (1.22.4)\n",
            "Collecting fastapi\n",
            "  Downloading fastapi-0.95.0-py3-none-any.whl (57 kB)\n",
            "\u001b[2K     \u001b[90m━━━━━━━━━━━━━━━━━━━━━━━━━━━━━━━━━━━━━━━━\u001b[0m \u001b[32m57.1/57.1 KB\u001b[0m \u001b[31m6.3 MB/s\u001b[0m eta \u001b[36m0:00:00\u001b[0m\n",
            "\u001b[?25hRequirement already satisfied: entrypoints in /usr/local/lib/python3.9/dist-packages (from altair>=4.2.0->gradio) (0.4)\n",
            "Requirement already satisfied: jsonschema>=3.0 in /usr/local/lib/python3.9/dist-packages (from altair>=4.2.0->gradio) (4.3.3)\n",
            "Requirement already satisfied: toolz in /usr/local/lib/python3.9/dist-packages (from altair>=4.2.0->gradio) (0.12.0)\n",
            "Requirement already satisfied: tqdm>=4.42.1 in /usr/local/lib/python3.9/dist-packages (from huggingface-hub->gradio) (4.65.0)\n",
            "Requirement already satisfied: filelock in /usr/local/lib/python3.9/dist-packages (from huggingface-hub->gradio) (3.10.2)\n",
            "Requirement already satisfied: packaging>=20.9 in /usr/local/lib/python3.9/dist-packages (from huggingface-hub->gradio) (23.0)\n",
            "Requirement already satisfied: mdurl~=0.1 in /usr/local/lib/python3.9/dist-packages (from markdown-it-py[linkify]>=2.0.0->gradio) (0.1.2)\n",
            "Collecting linkify-it-py<3,>=1\n",
            "  Downloading linkify_it_py-2.0.0-py3-none-any.whl (19 kB)\n",
            "Requirement already satisfied: pytz>=2020.1 in /usr/local/lib/python3.9/dist-packages (from pandas->gradio) (2022.7.1)\n",
            "Requirement already satisfied: python-dateutil>=2.8.1 in /usr/local/lib/python3.9/dist-packages (from pandas->gradio) (2.8.2)\n",
            "Requirement already satisfied: attrs>=17.3.0 in /usr/local/lib/python3.9/dist-packages (from aiohttp->gradio) (22.2.0)\n",
            "Requirement already satisfied: charset-normalizer<4.0,>=2.0 in /usr/local/lib/python3.9/dist-packages (from aiohttp->gradio) (2.0.12)\n",
            "Collecting frozenlist>=1.1.1\n",
            "  Downloading frozenlist-1.3.3-cp39-cp39-manylinux_2_5_x86_64.manylinux1_x86_64.manylinux_2_17_x86_64.manylinux2014_x86_64.whl (158 kB)\n",
            "\u001b[2K     \u001b[90m━━━━━━━━━━━━━━━━━━━━━━━━━━━━━━━━━━━━━━\u001b[0m \u001b[32m158.8/158.8 KB\u001b[0m \u001b[31m19.1 MB/s\u001b[0m eta \u001b[36m0:00:00\u001b[0m\n",
            "\u001b[?25hCollecting multidict<7.0,>=4.5\n",
            "  Downloading multidict-6.0.4-cp39-cp39-manylinux_2_17_x86_64.manylinux2014_x86_64.whl (114 kB)\n",
            "\u001b[2K     \u001b[90m━━━━━━━━━━━━━━━━━━━━━━━━━━━━━━━━━━━━━━\u001b[0m \u001b[32m114.2/114.2 KB\u001b[0m \u001b[31m13.4 MB/s\u001b[0m eta \u001b[36m0:00:00\u001b[0m\n",
            "\u001b[?25hCollecting yarl<2.0,>=1.0\n",
            "  Downloading yarl-1.8.2-cp39-cp39-manylinux_2_17_x86_64.manylinux2014_x86_64.whl (264 kB)\n",
            "\u001b[2K     \u001b[90m━━━━━━━━━━━━━━━━━━━━━━━━━━━━━━━━━━━━━━\u001b[0m \u001b[32m264.6/264.6 KB\u001b[0m \u001b[31m28.4 MB/s\u001b[0m eta \u001b[36m0:00:00\u001b[0m\n",
            "\u001b[?25hCollecting async-timeout<5.0,>=4.0.0a3\n",
            "  Downloading async_timeout-4.0.2-py3-none-any.whl (5.8 kB)\n",
            "Collecting aiosignal>=1.1.2\n",
            "  Downloading aiosignal-1.3.1-py3-none-any.whl (7.6 kB)\n",
            "Collecting starlette<0.27.0,>=0.26.1\n",
            "  Downloading starlette-0.26.1-py3-none-any.whl (66 kB)\n",
            "\u001b[2K     \u001b[90m━━━━━━━━━━━━━━━━━━━━━━━━━━━━━━━━━━━━━━━━\u001b[0m \u001b[32m66.9/66.9 KB\u001b[0m \u001b[31m3.5 MB/s\u001b[0m eta \u001b[36m0:00:00\u001b[0m\n",
            "\u001b[?25hCollecting rfc3986[idna2008]<2,>=1.3\n",
            "  Downloading rfc3986-1.5.0-py2.py3-none-any.whl (31 kB)\n",
            "Requirement already satisfied: certifi in /usr/local/lib/python3.9/dist-packages (from httpx->gradio) (2022.12.7)\n",
            "Collecting httpcore<0.17.0,>=0.15.0\n",
            "  Downloading httpcore-0.16.3-py3-none-any.whl (69 kB)\n",
            "\u001b[2K     \u001b[90m━━━━━━━━━━━━━━━━━━━━━━━━━━━━━━━━━━━━━━━━\u001b[0m \u001b[32m69.6/69.6 KB\u001b[0m \u001b[31m8.9 MB/s\u001b[0m eta \u001b[36m0:00:00\u001b[0m\n",
            "\u001b[?25hCollecting sniffio\n",
            "  Downloading sniffio-1.3.0-py3-none-any.whl (10 kB)\n",
            "Requirement already satisfied: pyparsing>=2.3.1 in /usr/local/lib/python3.9/dist-packages (from matplotlib->gradio) (3.0.9)\n",
            "Requirement already satisfied: fonttools>=4.22.0 in /usr/local/lib/python3.9/dist-packages (from matplotlib->gradio) (4.39.2)\n",
            "Requirement already satisfied: cycler>=0.10 in /usr/local/lib/python3.9/dist-packages (from matplotlib->gradio) (0.11.0)\n",
            "Requirement already satisfied: kiwisolver>=1.0.1 in /usr/local/lib/python3.9/dist-packages (from matplotlib->gradio) (1.4.4)\n",
            "Requirement already satisfied: importlib-resources>=3.2.0 in /usr/local/lib/python3.9/dist-packages (from matplotlib->gradio) (5.12.0)\n",
            "Requirement already satisfied: contourpy>=1.0.1 in /usr/local/lib/python3.9/dist-packages (from matplotlib->gradio) (1.0.7)\n",
            "Requirement already satisfied: idna<4,>=2.5 in /usr/local/lib/python3.9/dist-packages (from requests->gradio) (3.4)\n",
            "Requirement already satisfied: urllib3<1.27,>=1.21.1 in /usr/local/lib/python3.9/dist-packages (from requests->gradio) (1.26.15)\n",
            "Collecting h11>=0.8\n",
            "  Downloading h11-0.14.0-py3-none-any.whl (58 kB)\n",
            "\u001b[2K     \u001b[90m━━━━━━━━━━━━━━━━━━━━━━━━━━━━━━━━━━━━━━━━\u001b[0m \u001b[32m58.3/58.3 KB\u001b[0m \u001b[31m7.1 MB/s\u001b[0m eta \u001b[36m0:00:00\u001b[0m\n",
            "\u001b[?25hRequirement already satisfied: click>=7.0 in /usr/local/lib/python3.9/dist-packages (from uvicorn->gradio) (8.1.3)\n",
            "Collecting anyio<5.0,>=3.0\n",
            "  Downloading anyio-3.6.2-py3-none-any.whl (80 kB)\n",
            "\u001b[2K     \u001b[90m━━━━━━━━━━━━━━━━━━━━━━━━━━━━━━━━━━━━━━━━\u001b[0m \u001b[32m80.6/80.6 KB\u001b[0m \u001b[31m9.4 MB/s\u001b[0m eta \u001b[36m0:00:00\u001b[0m\n",
            "\u001b[?25hRequirement already satisfied: zipp>=3.1.0 in /usr/local/lib/python3.9/dist-packages (from importlib-resources>=3.2.0->matplotlib->gradio) (3.15.0)\n",
            "Requirement already satisfied: pyrsistent!=0.17.0,!=0.17.1,!=0.17.2,>=0.14.0 in /usr/local/lib/python3.9/dist-packages (from jsonschema>=3.0->altair>=4.2.0->gradio) (0.19.3)\n",
            "Collecting uc-micro-py\n",
            "  Downloading uc_micro_py-1.0.1-py3-none-any.whl (6.2 kB)\n",
            "Requirement already satisfied: six>=1.5 in /usr/local/lib/python3.9/dist-packages (from python-dateutil>=2.8.1->pandas->gradio) (1.16.0)\n",
            "Building wheels for collected packages: ffmpy\n",
            "  Building wheel for ffmpy (setup.py) ... \u001b[?25l\u001b[?25hdone\n",
            "  Created wheel for ffmpy: filename=ffmpy-0.3.0-py3-none-any.whl size=4707 sha256=9b8aac4c7bf5d7f014d42fa8554aebf9dc3b1dfba90224fcdfde5072d813e190\n",
            "  Stored in directory: /root/.cache/pip/wheels/91/e2/96/f676aa08bfd789328c6576cd0f1fde4a3d686703bb0c247697\n",
            "Successfully built ffmpy\n",
            "Installing collected packages: rfc3986, pydub, ffmpy, websockets, uc-micro-py, sniffio, semantic-version, python-multipart, orjson, multidict, h11, frozenlist, async-timeout, aiofiles, yarl, uvicorn, mdit-py-plugins, linkify-it-py, huggingface-hub, anyio, aiosignal, starlette, httpcore, aiohttp, httpx, fastapi, gradio\n",
            "Successfully installed aiofiles-23.1.0 aiohttp-3.8.4 aiosignal-1.3.1 anyio-3.6.2 async-timeout-4.0.2 fastapi-0.95.0 ffmpy-0.3.0 frozenlist-1.3.3 gradio-3.23.0 h11-0.14.0 httpcore-0.16.3 httpx-0.23.3 huggingface-hub-0.13.3 linkify-it-py-2.0.0 mdit-py-plugins-0.3.3 multidict-6.0.4 orjson-3.8.8 pydub-0.25.1 python-multipart-0.0.6 rfc3986-1.5.0 semantic-version-2.10.0 sniffio-1.3.0 starlette-0.26.1 uc-micro-py-1.0.1 uvicorn-0.21.1 websockets-10.4 yarl-1.8.2\n"
          ]
        }
      ]
    },
    {
      "cell_type": "code",
      "source": [
        "temp = opponents.index[(opponents['opponent_1'] == 'Josh Warrington') & (opponents['opponent_2'] == 'Carl Frampton')].tolist()\n",
        "# if temp == []:\n",
        "#     temp = opponents.index[(opponents['opponent_1'] == input2) & (opponents['opponent_2'] == input1)].tolist()\n",
        "z = parameters.loc[temp[0]]\n",
        "lst = z.to_numpy()\n",
        "ip = (lst - parameters.mean())/parameters.std()\n",
        "output = clf1.predict([ip])\n",
        "lst1 = opponents.loc[temp[0]]\n",
        "lst1\n",
        "lst1[output[0]-1]"
      ],
      "metadata": {
        "id": "o8bDpDCZI8YU",
        "colab": {
          "base_uri": "https://localhost:8080/",
          "height": 36
        },
        "outputId": "a580bc72-b91f-4b73-d711-1544c9cf2ae0"
      },
      "execution_count": null,
      "outputs": [
        {
          "output_type": "execute_result",
          "data": {
            "text/plain": [
              "'Carl Frampton'"
            ],
            "application/vnd.google.colaboratory.intrinsic+json": {
              "type": "string"
            }
          },
          "metadata": {},
          "execution_count": 38
        }
      ]
    },
    {
      "cell_type": "code",
      "source": [
        "import gradio as gr\n",
        "\n",
        "# Define your function\n",
        "def my_function(input1, input2):\n",
        "    # Process the inputs\n",
        "    temp = opponents.index[(opponents['opponent_1'] == input1) & (opponents['opponent_2'] == input2)].tolist()\n",
        "    if temp == []:\n",
        "          temp = opponents.index[(opponents['opponent_1'] == input2) & (opponents['opponent_2'] == input1)].tolist()\n",
        "    z = parameters.loc[temp[0]]\n",
        "    lst = z.to_numpy()\n",
        "    ip = (lst - parameters.mean())/parameters.std()\n",
        "    output = clf1.predict([ip])\n",
        "    lst1 = opponents.loc[temp[0]]\n",
        "    # if temp == []:\n",
        "    #   return 'No Sufficient Information about Players'\n",
        "    if output[0] == 3:\n",
        "       return 'Draw'\n",
        "    return lst1[output[0]-1]\n",
        "    # output = f\"Input 1: {input1}\\nInput 2: {input2}\"\n",
        "\n",
        "# Define the input components\n",
        "input1 = gr.inputs.Textbox(label=\"Fighter 1\")\n",
        "input2 = gr.inputs.Textbox(label=\"Fighter 2\")\n",
        "\n",
        "# Define the output component\n",
        "output = gr.outputs.Textbox(label=\"Verdict\")\n",
        "\n",
        "# Create the interface\n",
        "interface = gr.Interface(fn=my_function, inputs=[input1, input2], outputs=output, title=\"Boxing Prediction\")\n",
        "\n",
        "# Launch the interface\n",
        "interface.launch()\n"
      ],
      "metadata": {
        "id": "0C5Vw29DgN-7",
        "colab": {
          "base_uri": "https://localhost:8080/",
          "height": 775
        },
        "outputId": "81296d94-e058-4c1a-8f56-aac946c59d0a"
      },
      "execution_count": null,
      "outputs": [
        {
          "output_type": "stream",
          "name": "stderr",
          "text": [
            "/usr/local/lib/python3.9/dist-packages/gradio/inputs.py:27: UserWarning: Usage of gradio.inputs is deprecated, and will not be supported in the future, please import your component from gradio.components\n",
            "  warnings.warn(\n",
            "/usr/local/lib/python3.9/dist-packages/gradio/deprecation.py:40: UserWarning: `optional` parameter is deprecated, and it has no effect\n",
            "  warnings.warn(value)\n",
            "/usr/local/lib/python3.9/dist-packages/gradio/deprecation.py:40: UserWarning: `numeric` parameter is deprecated, and it has no effect\n",
            "  warnings.warn(value)\n",
            "/usr/local/lib/python3.9/dist-packages/gradio/outputs.py:22: UserWarning: Usage of gradio.outputs is deprecated, and will not be supported in the future, please import your components from gradio.components\n",
            "  warnings.warn(\n"
          ]
        },
        {
          "output_type": "stream",
          "name": "stdout",
          "text": [
            "Colab notebook detected. To show errors in colab notebook, set debug=True in launch()\n",
            "Note: opening Chrome Inspector may crash demo inside Colab notebooks.\n",
            "\n",
            "To create a public link, set `share=True` in `launch()`.\n"
          ]
        },
        {
          "output_type": "display_data",
          "data": {
            "text/plain": [
              "<IPython.core.display.Javascript object>"
            ],
            "application/javascript": [
              "(async (port, path, width, height, cache, element) => {\n",
              "                        if (!google.colab.kernel.accessAllowed && !cache) {\n",
              "                            return;\n",
              "                        }\n",
              "                        element.appendChild(document.createTextNode(''));\n",
              "                        const url = await google.colab.kernel.proxyPort(port, {cache});\n",
              "\n",
              "                        const external_link = document.createElement('div');\n",
              "                        external_link.innerHTML = `\n",
              "                            <div style=\"font-family: monospace; margin-bottom: 0.5rem\">\n",
              "                                Running on <a href=${new URL(path, url).toString()} target=\"_blank\">\n",
              "                                    https://localhost:${port}${path}\n",
              "                                </a>\n",
              "                            </div>\n",
              "                        `;\n",
              "                        element.appendChild(external_link);\n",
              "\n",
              "                        const iframe = document.createElement('iframe');\n",
              "                        iframe.src = new URL(path, url).toString();\n",
              "                        iframe.height = height;\n",
              "                        iframe.allow = \"autoplay; camera; microphone; clipboard-read; clipboard-write;\"\n",
              "                        iframe.width = width;\n",
              "                        iframe.style.border = 0;\n",
              "                        element.appendChild(iframe);\n",
              "                    })(7861, \"/\", \"100%\", 500, false, window.element)"
            ]
          },
          "metadata": {}
        },
        {
          "output_type": "execute_result",
          "data": {
            "text/plain": []
          },
          "metadata": {},
          "execution_count": 40
        }
      ]
    },
    {
      "cell_type": "code",
      "source": [],
      "metadata": {
        "id": "DDH8vWKeRnQB"
      },
      "execution_count": null,
      "outputs": []
    }
  ]
}